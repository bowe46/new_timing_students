{
 "cells": [
  {
   "cell_type": "code",
   "execution_count": 1,
   "metadata": {},
   "outputs": [],
   "source": [
    "#%matplotlib notebook\n",
    "%matplotlib inline\n",
    "from scipy import signal\n",
    "import numpy as np\n",
    "import matplotlib.pyplot as plt\n",
    "#np.random.seed(1234)\n",
    "from astropy.io import fits\n",
    "import astropy.units as u\n",
    "import pandas as pd\n",
    "from astropy.table import Table\n",
    "from matplotlib import colors,cm"
   ]
  },
  {
   "cell_type": "code",
   "execution_count": null,
   "metadata": {},
   "outputs": [],
   "source": [
    "# Loading BAT data of Vela X-1 and looking info\n",
    "vela_file = 'data/bat_Vela_X-1_lc-8.fits'\n",
    "fits.info(vela_file)"
   ]
  },
  {
   "cell_type": "code",
   "execution_count": null,
   "metadata": {},
   "outputs": [],
   "source": [
    "# See HEADER file for further info\n",
    "hdu = fits.open(vela_file)\n",
    "hdu[1].header"
   ]
  },
  {
   "cell_type": "code",
   "execution_count": null,
   "metadata": {},
   "outputs": [],
   "source": [
    "# LOAD data with PANDAS and look at the EVENT table\n",
    "vela_ft = fits.open(vela_file)[1].data\n",
    "vela = Table.read(vela_file).to_pandas()\n",
    "vela"
   ]
  },
  {
   "cell_type": "code",
   "execution_count": null,
   "metadata": {},
   "outputs": [],
   "source": [
    "# Some statistical vaues (# events, min, max, mean, std, ...)\n",
    "vela.describe()"
   ]
  },
  {
   "cell_type": "code",
   "execution_count": null,
   "metadata": {},
   "outputs": [],
   "source": [
    "# Plot LC\n",
    "fig, ax = plt.subplots(nrows=1, ncols=1, figsize=(9,5))\n",
    "ax.set_title('Vela LC')\n",
    "ax.set_xlabel('Time [MJD]')\n",
    "ax.set_ylabel('Rate [A.U.]')\n",
    "ax.set_xlim(vela['TIME'].min(),vela['TIME'].max())\n",
    "ax.errorbar(vela['TIME'],vela['RATE'],xerr=0.5*vela['TIMEDEL']*vela['FRACEXP'],yerr=vela['ERROR'],label='Vela X-1',ls='')\n",
    "#ax.errorbar(vela['TIME'][vela['FRACEXP']>1],vela['RATE'][vela['FRACEXP']>1],xerr=0.5*vela['TIMEDEL'][vela['FRACEXP']>1]*vela['FRACEXP'][vela['FRACEXP']>1],yerr=vela['ERROR'][vela['FRACEXP']>1],label='FRACEXP>1',ls='')"
   ]
  },
  {
   "cell_type": "code",
   "execution_count": null,
   "metadata": {
    "scrolled": false
   },
   "outputs": [],
   "source": [
    "# Plot RATE histogram\n",
    "fig, ax = plt.subplots(nrows=1, ncols=1, figsize=(9,5))\n",
    "ax.set_title('Vela X-1 histogram of RATE')\n",
    "ax.set_xlabel('Vela[RATE]')\n",
    "ax.hist(vela['RATE'], bins=500)#, range=[-0.01,0.05])\n",
    "ax.axvline(0,ls=':',color='k')"
   ]
  },
  {
   "cell_type": "code",
   "execution_count": null,
   "metadata": {},
   "outputs": [],
   "source": [
    "# Plot only events whose RATE is: 0 > RATE > 0.002\n",
    "#vela[np.logical_and(vela['PHASE']>i/bin,vela['PHASE']<(i+1)/bin)]\n",
    "\n",
    "fig, ax = plt.subplots(nrows=1, ncols=1, figsize=(9,5))\n",
    "ax.set_title('Vela X-1 MINIMUM fluxes')\n",
    "ax.set_xlabel('Time [MJD]')\n",
    "ax.set_ylabel('Rate [A.U.]')\n",
    "ax.set_xlim(vela['TIME'].min(),vela['TIME'].max())\n",
    "mask = np.logical_and(vela['RATE']>0,vela['RATE']<0.002)\n",
    "ax.errorbar(vela['TIME'][mask],\n",
    "            vela['RATE'][mask],\n",
    "            xerr=0.5*vela['TIMEDEL'][mask]*vela['FRACEXP'][mask],\n",
    "            yerr=vela['ERROR'][mask],\n",
    "            label='Vela X-1',ls='')\n",
    "ax.plot(vela['TIME'][mask],vela['RATE'][mask],ls='',marker='.',c='r')"
   ]
  },
  {
   "cell_type": "code",
   "execution_count": null,
   "metadata": {},
   "outputs": [],
   "source": [
    "# Looking for the PERIODICITY\n",
    "fig, ax = plt.subplots(nrows=2, ncols=1, figsize=(9,7))\n",
    "\n",
    "# Select a small TIME range and FILTER OUT negative values\n",
    "mask = np.logical_and(vela['RATE']>0,vela['TIME']<53600)\n",
    "x = vela['TIME'][mask]\n",
    "y = vela['RATE'][mask]\n",
    "\n",
    "# Define the array of frequencies for which to compute the periodogram:\n",
    "nout=100000\n",
    "period = np.logspace(-1, 2, nout) # from 0.1 day to 100 days\n",
    "ang_freqs = 2 * np.pi / period\n",
    "\n",
    "# Calculate Lomb-Scargle periodogram:\n",
    "# (weak periodic signal with unven sampling)\n",
    "pgram = signal.lombscargle(x, y-y.mean(), ang_freqs, normalize=True)\n",
    "\n",
    "#Now make a plot of the input data:\n",
    "ax[0].plot(x, y, '+')\n",
    "ax[0].set(xlabel='Time [MJD]',ylabel='Rate [A.U.]',title='Vela X-1 LC')\n",
    "\n",
    "#Then plot the normalized periodogram:\n",
    "ax[1].plot(period, pgram)\n",
    "ax[1].set(xlabel='period [days]',ylabel='A.U.',title='Periodogram: Lomb-Scargle')\n",
    "for i,j in zip(period,pgram):\n",
    "    if j==pgram.max():\n",
    "        print('Best period = %s' % i)\n",
    "fig.tight_layout()"
   ]
  },
  {
   "cell_type": "code",
   "execution_count": null,
   "metadata": {},
   "outputs": [],
   "source": [
    "# Refine search with SMALLE LINEAR range PERIOD: 0-15 days\n",
    "fig, ax = plt.subplots(nrows=2, ncols=1, figsize=(9,7))\n",
    "\n",
    "# Define the array of frequencies for which to compute the periodogram:\n",
    "p = np.linspace(0.1, 15, nout)\n",
    "ang_freqs = 2 * np.pi / p\n",
    "\n",
    "# Calculate Lomb-Scargle periodogram:\n",
    "pgram = signal.lombscargle(x, y-y.mean(), ang_freqs, normalize=True)\n",
    "\n",
    "# Plot of the results:\n",
    "ax[0].plot(x, y, '+')\n",
    "ax[0].set(xlabel='Time [MJD]',ylabel='Rate [A.U.]',title='Vela X-1 LC')\n",
    "ax[1].plot(p, pgram)\n",
    "ax[1].set(xlabel='period [days]',ylabel='A.U.',title='Periodogram: Lomb-Scargle')\n",
    "\n",
    "for i,j in zip(p,pgram):\n",
    "    if j==pgram.max():\n",
    "        print('Best period = %s' % i)\n",
    "fig.tight_layout()"
   ]
  },
  {
   "cell_type": "code",
   "execution_count": null,
   "metadata": {},
   "outputs": [],
   "source": [
    "# Use a LARGER sample of data\n",
    "fig, ax = plt.subplots(nrows=2, ncols=1, figsize=(9,7))\n",
    "\n",
    "# Select TIME range and FILTER OUT negative values\n",
    "tmax = 53800\n",
    "mask = np.logical_and(vela['RATE']>0,vela['TIME']<tmax)\n",
    "x = vela['TIME'][mask]\n",
    "y = vela['RATE'][mask]\n",
    "\n",
    "# Define the array of frequencies for which to compute the periodogram:\n",
    "nout=100000\n",
    "p = np.linspace(0.1, 15, nout)\n",
    "ang_freqs = 2 * np.pi / p\n",
    "\n",
    "# Calculate Lomb-Scargle periodogram:\n",
    "pgram = signal.lombscargle(x, y-y.mean(), ang_freqs, normalize=True)\n",
    "\n",
    "# Plot of the results:\n",
    "ax[0].plot(x, y, '+')\n",
    "ax[0].set(xlabel='Time [MJD]',ylabel='Rate [A.U.]',title='Vela X-1 LC')\n",
    "ax[1].plot(p, pgram)\n",
    "ax[1].set(xlabel='period [days]',ylabel='A.U.',title='Periodogram: Lomb-Scargle')\n",
    "\n",
    "for i,j in zip(p,pgram):\n",
    "    if j==pgram.max():\n",
    "        print('Best period = %s' % i)\n",
    "fig.tight_layout()"
   ]
  },
  {
   "cell_type": "code",
   "execution_count": null,
   "metadata": {},
   "outputs": [],
   "source": [
    "# Use ALL available data: VERY SLOW\n",
    "fig, ax = plt.subplots(nrows=2, ncols=1, figsize=(9,7))\n",
    "\n",
    "# Select TIME range and FILTER OUT negative values\n",
    "tmax = vela['TIME'].max()\n",
    "mask = np.logical_and(vela['RATE']>0,vela['TIME']<tmax)\n",
    "x = vela['TIME'][mask]\n",
    "y = vela['RATE'][mask]\n",
    "\n",
    "# Define the array of frequencies for which to compute the periodogram:\n",
    "nout=100000\n",
    "p = np.linspace(0.1, 15, nout)\n",
    "ang_freqs = 2 * np.pi / p\n",
    "\n",
    "# Calculate Lomb-Scargle periodogram:\n",
    "pgram = signal.lombscargle(x, y-y.mean(), ang_freqs, normalize=True)\n",
    "\n",
    "# Plot of the results:\n",
    "ax[0].plot(x, y, '+')\n",
    "ax[0].set(xlabel='Time [MJD]',ylabel='Rate [A.U.]',title='Vela X-1 LC')\n",
    "ax[1].plot(p, pgram)\n",
    "ax[1].set(xlabel='period [days]',ylabel='A.U.',title='Periodogram: Lomb-Scargle')\n",
    "\n",
    "for i,j in zip(p,pgram):\n",
    "    if j==pgram.max():\n",
    "        print('Best period = %s' % i)\n",
    "fig.tight_layout()"
   ]
  },
  {
   "cell_type": "code",
   "execution_count": null,
   "metadata": {
    "scrolled": false
   },
   "outputs": [],
   "source": [
    "def binned_plot(bin,arr,ax):\n",
    "    avg,avg_err,avg_err_mean=[],[],[]\n",
    "    for i in range(bin):\n",
    "        a = arr[np.logical_and(arr['PHASE']>i/bin,arr['PHASE']<(i+1)/bin)]\n",
    "        avg.append(a.RATE.mean())\n",
    "        avg_err.append(np.sqrt((a.ERROR*a.ERROR).sum())/len(a.ERROR))\n",
    "        avg_err_mean.append(a.ERROR.mean())\n",
    "    ax.errorbar(np.linspace(0,1,bin),avg,xerr=0.5/bin,yerr=avg_err,ls=':',label='%s bin' % bin)\n",
    "    ax.axhline(0,ls='--')\n",
    "    return\n",
    "\n",
    "# Create FOLDED LC\n",
    "fig, ax = plt.subplots(nrows=6, ncols=2, figsize=(9,25))\n",
    "fig.suptitle('Vela X-1 FOLDED LC:')\n",
    "for m,period in enumerate([8.93942351813576,\n",
    "                           8.939215392153923,                           \n",
    "                           8.967823678236783,\n",
    "                           8.96558865588656,\n",
    "                           8.96409864098641,\n",
    "                           8.964357]):\n",
    "    vela['PHASE'] = np.zeros(len(vela['TIME']))\n",
    "    for n,t in enumerate(vela['TIME']):\n",
    "        vela.at[n,'PHASE'] = (t % period)/period\n",
    "    ax[m,0].set(title='ALL data, P=%.4f' % period, xlabel='Phase', ylabel='RATE [#/s]', ylim=(-0.01,0.05))\n",
    "    ax[m,0].plot(vela['PHASE'],vela['RATE'],',')\n",
    "    \n",
    "    binned_plot(30,vela,ax[m,1])\n",
    "    ax[m,1].set(title='BINNED data, P=%.4f' % period, xlabel='Phase', ylabel='RATE [#/s]', ylim=(-0.0007,0.012))\n",
    "    binned_plot(200,vela,ax[m,1])    \n",
    "    ax[m,1].legend()\n",
    "fig.tight_layout(rect=[0, 0.03, 1, 0.97])"
   ]
  },
  {
   "cell_type": "code",
   "execution_count": null,
   "metadata": {
    "scrolled": false
   },
   "outputs": [],
   "source": [
    "# Fine tune the periodicity, looking for the PERIOD which MAXIMIZE the ECLIPSE\n",
    "fig, ax = plt.subplots(nrows=1, ncols=2, figsize=(9,4))\n",
    "fig.suptitle('Vela X-1 FOLDED LC:')\n",
    "max_bin_min = 0\n",
    "best_period = 0\n",
    "print('period bin_min best_period max_bin_min')\n",
    "for period in np.linspace(8.96,8.97,100):\n",
    "    vela['PHASE'] = np.zeros(len(vela['TIME']))\n",
    "    for n,t in enumerate(vela['TIME']):\n",
    "        vela.at[n,'PHASE'] = (t % period)/period\n",
    "\n",
    "    avg,avg_err,avg_err_mean=[],[],[]\n",
    "    bin=200\n",
    "    bin_min = 0\n",
    "    for i in range(bin):\n",
    "        a = vela[np.logical_and(vela['PHASE']>i/bin,vela['PHASE']<(i+1)/bin)]\n",
    "        avg.append(a.RATE.mean())\n",
    "        avg_err.append(np.sqrt((a.ERROR*a.ERROR).sum())/len(a.ERROR))\n",
    "        avg_err_mean.append(a.ERROR.mean())\n",
    "        if avg[-1] + avg_err[-1] < 0.002:\n",
    "            bin_min += 1\n",
    "    if bin_min > max_bin_min:\n",
    "        max_bin_min = bin_min\n",
    "        best_period = period\n",
    "    print('p = %s\\tb = %s\\tbp = %s\\tbb = %s' % (period,bin_min,best_period,max_bin_min))\n",
    "\n",
    "# Redo the plot with the BEST PERIOD\n",
    "vela['PHASE'] = np.zeros(len(vela['TIME']))\n",
    "for n,t in enumerate(vela['TIME']):\n",
    "    vela.at[n,'PHASE'] = (t % best_period)/best_period\n",
    "ax[0].set(title='Vela X-1 folded p:%.5f' % best_period,xlabel='Phase',ylabel='RATE [#/s]')\n",
    "ax[0].plot(vela['PHASE'],vela['RATE'],',')\n",
    "ax[0].set_ylim(-0.01,0.05)\n",
    "\n",
    "binned_plot(30,vela,ax[1])\n",
    "ax[1].set(title='Vela X-1 folded p:%.5f' % best_period,xlabel='Phase',ylabel='RATE [#/s]')\n",
    "\n",
    "binned_plot(200,vela,ax[1])\n",
    "ax[1].legend()\n",
    "fig.tight_layout(rect=[0, 0.03, 1, 0.97])"
   ]
  },
  {
   "cell_type": "code",
   "execution_count": null,
   "metadata": {},
   "outputs": [],
   "source": [
    "# Fine tune the periodicity and look for the PERIOD which MAXIMIZE the ECLIPSE\n",
    "fig, ax = plt.subplots(nrows=1, ncols=2, figsize=(9,5))\n",
    "fig.suptitle('Vela X-1 FOLDED LC:')\n",
    "\n",
    "max_bin_min = 0\n",
    "best_period = 0\n",
    "bin=200\n",
    "period_list = []\n",
    "width_eclipse = []\n",
    "print('period bin_min best_period max_bin_min')\n",
    "for period in np.linspace(8.963,8.966,30):\n",
    "    vela['PHASE'] = np.zeros(len(vela['TIME']))\n",
    "    for n,t in enumerate(vela['TIME']):\n",
    "        vela.at[n,'PHASE'] = (t % period)/period    \n",
    "    avg,avg_err,avg_err_mean=[],[],[]\n",
    "    bin_min = 0\n",
    "    for i in range(bin):\n",
    "        a = vela[np.logical_and(vela['PHASE']>i/bin,vela['PHASE']<(i+1)/bin)]\n",
    "        avg.append(a.RATE.mean())\n",
    "        avg_err.append(np.sqrt((a.ERROR*a.ERROR).sum())/len(a.ERROR))\n",
    "        avg_err_mean.append(a.ERROR.mean())\n",
    "        if avg[-1] + avg_err[-1] < 0.002:\n",
    "            bin_min += 1\n",
    "    width_eclipse.append(bin_min)\n",
    "    period_list.append(period)\n",
    "    if bin_min > max_bin_min:\n",
    "        max_bin_min = bin_min\n",
    "        best_period = period\n",
    "    print('p = %s\\tb = %s\\tbp = %s\\tbb = %s' % (period,bin_min,best_period,max_bin_min))\n",
    "\n",
    "# Redo the plot with the BEST PERIOD\n",
    "vela['PHASE'] = np.zeros(len(vela['TIME']))\n",
    "for n,t in enumerate(vela['TIME']):\n",
    "    vela.at[n,'PHASE'] = (t % best_period)/best_period\n",
    "\n",
    "ax[0].set(title='Vela X-1 folded p:%.4f' % best_period,xlabel='Phase',ylabel='RATE [#/s]')\n",
    "ax[0].plot(vela['PHASE'],vela['RATE'],',')\n",
    "ax[0].set_ylim(-0.01,0.05)\n",
    "\n",
    "binned_plot(30,vela,ax[1])\n",
    "ax[1].set(title='Vela X-1 folded p:%.4f' % best_period,xlabel='Phase',ylabel='RATE [#/s]')\n",
    "binned_plot(200,vela,ax[1])\n",
    "ax[1].legend()\n",
    "fig.tight_layout(rect=[0, 0.03, 1, 0.97])\n",
    "\n",
    "fig, ax = plt.subplots(nrows=1, ncols=1, figsize=(9,5))\n",
    "ax.set(title='Eclipse width as a function of period',xlabel='Period [days]',ylabel='Width eclipse [# bin/%s]'%bin)\n",
    "ax.plot(period_list,width_eclipse,'o-',label='width eclipse')\n",
    "z = np.polyfit(period_list, width_eclipse, 2)\n",
    "p = np.poly1d(z)\n",
    "xp = np.linspace(period_list[0], period_list[-1], 100)\n",
    "ax.plot(xp, p(xp), '--', label='fit')\n",
    "ax.axvline(xp[np.argmax(p(xp))],ls=':', label = 'max')\n",
    "ax.set_title('Best period is P = %.4f' % xp[np.argmax(p(xp))])\n",
    "ax.legend()"
   ]
  },
  {
   "cell_type": "code",
   "execution_count": null,
   "metadata": {},
   "outputs": [],
   "source": [
    "# Folded light curve\n",
    "period = 8.964357 #day\n",
    "\n",
    "vela['PHASE'] = np.zeros(len(vela['TIME']))\n",
    "for n,t in enumerate(vela['TIME']):\n",
    "    vela.at[n,'PHASE'] = (t % period)/period"
   ]
  },
  {
   "cell_type": "code",
   "execution_count": null,
   "metadata": {},
   "outputs": [],
   "source": [
    "vela"
   ]
  },
  {
   "cell_type": "code",
   "execution_count": null,
   "metadata": {
    "scrolled": false
   },
   "outputs": [],
   "source": [
    "# Remake the plot with the best know period\n",
    "fig, ax = plt.subplots(nrows=1, ncols=2, figsize=(9,5))\n",
    "fig.suptitle('Vela X-1 FOLDED LC:')\n",
    "\n",
    "ax[0].set(title='Vela X-1 folded p:%.4f' % best_period,xlabel='Phase',ylabel='RATE [#/s]')\n",
    "ax[0].plot(vela['PHASE'],vela['RATE'],',')\n",
    "ax[0].set_ylim(-0.01,0.05)\n",
    "\n",
    "binned_plot(30,vela,ax[1])\n",
    "ax[1].set(title='Vela X-1 folded p:%.4f' % best_period,xlabel='Phase',ylabel='RATE [#/s]')\n",
    "binned_plot(200,vela,ax[1])\n",
    "ax[1].legend()\n",
    "fig.tight_layout(rect=[0, 0.03, 1, 0.97])"
   ]
  },
  {
   "cell_type": "code",
   "execution_count": null,
   "metadata": {
    "scrolled": false
   },
   "outputs": [],
   "source": [
    "# Set up the axes with gridspec\n",
    "fig = plt.figure(figsize=(9,7))\n",
    "grid = plt.GridSpec(2, 10, hspace=0, wspace=0.)\n",
    "bottom = fig.add_axes([0.1, 0.1, 0.8, 0.4])\n",
    "bottom.plot(vela['PHASE'],vela['RATE'],',')\n",
    "bottom.set(xlim=(0,1),ylim=(0,0.05),xlabel='Phase',ylabel='Rate')\n",
    "bottom.tick_params(labelright=True)\n",
    "for i in [0.3,0.35,0.5,0.55]:\n",
    "    bottom.axvline(i,ls='--')\n",
    "\n",
    "nbins=40\n",
    "left = fig.add_axes([0.1, 0.5, 0.24, 0.4], xticklabels=[], sharey=bottom)\n",
    "left.hist(vela['RATE'][vela['PHASE']<0.3],range=[0,0.05],bins=nbins,orientation='horizontal')\n",
    "left.invert_xaxis()\n",
    "\n",
    "right = fig.add_axes([0.54, 0.5, 0.36, 0.4], xticklabels=[], sharey=bottom)\n",
    "right.hist(vela['RATE'][vela['PHASE']>0.6],range=[0,0.05],bins=nbins,orientation='horizontal')\n",
    "right.invert_xaxis()\n",
    "right.yaxis.tick_right()\n",
    "\n",
    "center = fig.add_axes([0.38, 0.5, 0.12, 0.4], sharey=bottom)\n",
    "center.hist(vela['RATE'][np.logical_and(vela['PHASE']>0.35,vela['PHASE']<0.5)],range=[0,0.05],bins=nbins,orientation='horizontal')\n",
    "center.invert_xaxis()\n",
    "center.tick_params(labelbottom=False, labelleft=False)"
   ]
  },
  {
   "cell_type": "markdown",
   "metadata": {},
   "source": [
    "# Move now to analyse Fermi-LAT data (gamma-rays)"
   ]
  },
  {
   "cell_type": "markdown",
   "metadata": {},
   "source": [
    "Download Fermi-LAT data of Geminga pulsar, from the START of the mission till MJD = 55196 from the website:\n",
    "\n",
    "https://fermi.gsfc.nasa.gov/cgi-bin/ssc/LAT/LATDataQuery.cgi"
   ]
  },
  {
   "cell_type": "markdown",
   "metadata": {},
   "source": [
    "![title](pics/data_query.png)"
   ]
  },
  {
   "cell_type": "code",
   "execution_count": null,
   "metadata": {},
   "outputs": [],
   "source": [
    "# Loading SPACECRAFT file\n",
    "sc = 'data/spacecraft.fits'\n",
    "fits.info(sc)"
   ]
  },
  {
   "cell_type": "code",
   "execution_count": null,
   "metadata": {},
   "outputs": [],
   "source": [
    "# See HEADER file for further info\n",
    "hdu = fits.open(sc)\n",
    "hdu[1].header"
   ]
  },
  {
   "cell_type": "markdown",
   "metadata": {},
   "source": [
    "We need to run now \"gtselect\":\n",
    "![title](pics/gtselect.png)\n",
    "\n",
    "...and then \"gtmktime\":\n",
    "![title](pics/gtmktime.png)"
   ]
  },
  {
   "cell_type": "code",
   "execution_count": null,
   "metadata": {},
   "outputs": [],
   "source": [
    "# Load photon files\n",
    "geminga_file = 'data/Geminga_gtis.fits'\n",
    "fits.info(geminga_file)"
   ]
  },
  {
   "cell_type": "code",
   "execution_count": null,
   "metadata": {},
   "outputs": [],
   "source": [
    "# LOAD data with PANDAS and look at the EVENT table\n",
    "geminga_hdu = fits.open('data/Geminga_gtis.fits')\n",
    "geminga_data = geminga_hdu[1].data\n",
    "names = [name for name in geminga_data.columns.names if len(geminga_data[name].shape) <= 1]\n",
    "geminga = Table.read('data/Geminga_gtis.fits',hdu=1)\n",
    "geminga = geminga[names].to_pandas()\n",
    "geminga"
   ]
  },
  {
   "cell_type": "code",
   "execution_count": null,
   "metadata": {
    "scrolled": false
   },
   "outputs": [],
   "source": [
    "# We can now plot a count map of the events\n",
    "fig, ax = plt.subplots(nrows=1, ncols=1, figsize=(9,8))\n",
    "ax.set(title='CMAP: Galactic',xlabel='L',ylabel='B')\n",
    "h = ax.hist2d(geminga['L'],geminga['B'],100, cmap='plasma', norm=colors.PowerNorm(0.3) )# norm=colors.LogNorm())\n",
    "ax.axis('equal')\n",
    "fig.colorbar(h[3], ax=ax, orientation='vertical')"
   ]
  },
  {
   "cell_type": "code",
   "execution_count": null,
   "metadata": {},
   "outputs": [],
   "source": [
    "# Crop 1deg around Geminga (to shrink the file size and account for bad PSF)\n",
    "ra  = 98.476204\n",
    "dec = 17.770661\n",
    "dist = np.sqrt( (geminga['RA']-ra)**2 + (geminga['DEC']-dec)**2) \n",
    "crop = geminga[dist<1]"
   ]
  },
  {
   "cell_type": "code",
   "execution_count": null,
   "metadata": {},
   "outputs": [],
   "source": [
    "crop"
   ]
  },
  {
   "cell_type": "code",
   "execution_count": null,
   "metadata": {},
   "outputs": [],
   "source": [
    "%matplotlib notebook\n",
    "fig, ax = plt.subplots(nrows=1, ncols=1, figsize=(9,5))\n",
    "ax.set(title='Light curve GEMINGA',xlabel='Time [s]',ylabel='Counts')\n",
    "h = ax.hist(crop['TIME']-crop['TIME'].min(), 1000)\n",
    "#h = ax.hist(crop['TIME']-crop['TIME'].min(),range=(0,3600), bins=10)"
   ]
  },
  {
   "cell_type": "markdown",
   "metadata": {},
   "source": [
    "Because the LAT data are sparse, long accumulation time is required. Calculating a pulse phase therefore requires precise position and timing information for the pulsar."
   ]
  },
  {
   "cell_type": "code",
   "execution_count": null,
   "metadata": {},
   "outputs": [],
   "source": [
    "# Use ALL available data: VERY SLOW\n",
    "fig, ax = plt.subplots(nrows=2, ncols=1, figsize=(9,7))\n",
    "\n",
    "# Select TIME range and FILTER OUT negative values\n",
    "x = crop['TIME'][:100]\n",
    "y = np.ones(len(x))\n",
    "\n",
    "# Define the array of frequencies for which to compute the periodogram:\n",
    "nout=100000\n",
    "p = np.linspace(0.01, 2, nout)\n",
    "ang_freqs = 2 * np.pi / p\n",
    "\n",
    "# Calculate Lomb-Scargle periodogram:\n",
    "pgram = signal.lombscargle(x, y, ang_freqs, normalize=True)\n",
    "\n",
    "# Plot of the results:\n",
    "ax[0].plot(x, y, '+')\n",
    "ax[0].set(xlabel='Time [s]',ylabel='Rate [A.U.]',title='Geminga LC')\n",
    "ax[1].plot(p, pgram)\n",
    "ax[1].set(xlabel='period [s]',ylabel='A.U.',title='Periodogram: Lomb-Scargle')\n",
    "\n",
    "for i,j in zip(p,pgram):\n",
    "    if j==pgram.max():\n",
    "        print('Best period = %s' % i)\n",
    "fig.tight_layout()"
   ]
  },
  {
   "cell_type": "code",
   "execution_count": null,
   "metadata": {},
   "outputs": [],
   "source": [
    "# Attribute PHASE to cropped Geminga\n",
    "period = 1/4.217567\n",
    "crop_dummy = crop.copy()\n",
    "crop_dummy['PHASE'] = np.zeros(len(crop_dummy['TIME']))\n",
    "for n,t in zip(crop_dummy.index,crop_dummy['TIME']):\n",
    "    crop_dummy.loc[n,'PHASE'] = (t % period)/period"
   ]
  },
  {
   "cell_type": "code",
   "execution_count": null,
   "metadata": {},
   "outputs": [],
   "source": [
    "# Create FOLDED LC\n",
    "fig, ax = plt.subplots(nrows=1, ncols=2, figsize=(9,5))\n",
    "fig.suptitle('Geminga FOLDED LC:')\n",
    "ax[0].set(title='ALL data, P=%.4f' % period, xlabel='Time [s]', ylabel='Phase')#, ylim=(-0.01,0.05))\n",
    "ax[0].plot(crop_dummy['TIME'],crop_dummy['PHASE'],',')\n",
    "\n",
    "ax[1].set(title='BINNED data, P=%.4f' % period, xlabel='Phase', ylabel='Counts')#, ylim=(-0.0007,0.012))\n",
    "ax[1].hist(crop_dummy['PHASE'],200)\n",
    "fig.tight_layout(rect=[0, 0.03, 1, 0.97])"
   ]
  },
  {
   "cell_type": "code",
   "execution_count": null,
   "metadata": {},
   "outputs": [],
   "source": [
    "# See HEADER file for further info\n",
    "geminga_hdu[1].header"
   ]
  },
  {
   "cell_type": "markdown",
   "metadata": {},
   "source": [
    "## Performing BARYCENTRIC correction with gtbary (or faxbary)"
   ]
  },
  {
   "cell_type": "markdown",
   "metadata": {},
   "source": [
    "The telescope is moving around the Earth, which in turns move around the Sun. So we should refer to the arrival time at a point in the solar system which is at rest. Such a point is the system's centre of mass, the so-called solar system barycentre, which we assume to be comoving with the pulsar.  \n",
    "\n",
    "If the assumed pulsar position is inaccurate, our transformation to the solar system barycentre will be wrong too, creating a deviation from the expected arrival time that depends on the position of the Earth in its orbit. Hence, the deviation will have a sinusoid shape with the period of one year.\n",
    "\n",
    "![title](pics/bary.png)\n",
    "\n",
    "![title](pics/bary_formula.png)\n",
    "\n",
    "![title](pics/bary_formula_component.png)"
   ]
  },
  {
   "cell_type": "code",
   "execution_count": null,
   "metadata": {},
   "outputs": [],
   "source": [
    "# Load Geminga_bary files\n",
    "roi_file = 'data/gtbary/Geminga_1deg_roi.fits'\n",
    "roi = fits.open(roi_file)\n",
    "roi_fits = fits.open(roi_file)[1].data\n",
    "names = [name for name in roi_fits.columns.names if len(roi_fits[name].shape) <= 1]\n",
    "roi = Table.read(roi_file,hdu=1)\n",
    "roi = roi[names].to_pandas()\n",
    "\n",
    "roi_geo_file = 'data/gtbary/Geminga_1deg_roi_geo.fits'\n",
    "roi_geo = fits.open(roi_geo_file)\n",
    "roi_geo_fits = fits.open(roi_geo_file)[1].data\n",
    "names = [name for name in roi_geo_fits.columns.names if len(roi_geo_fits[name].shape) <= 1]\n",
    "roi_geo = Table.read(roi_geo_file,hdu=1)\n",
    "roi_geo = roi_geo[names].to_pandas()\n",
    "\n",
    "roi_bary_file = 'data/gtbary/Geminga_1deg_roi_bary.fits'\n",
    "roi_bary = fits.open(roi_bary_file)\n",
    "roi_bary_fits = fits.open(roi_bary_file)[1].data\n",
    "names = [name for name in roi_bary_fits.columns.names if len(roi_bary_fits[name].shape) <= 1]\n",
    "roi_bary = Table.read(roi_bary_file,hdu=1)\n",
    "roi_bary = roi_bary[names].to_pandas()"
   ]
  },
  {
   "cell_type": "code",
   "execution_count": null,
   "metadata": {},
   "outputs": [],
   "source": [
    "fits.open(roi_file)[1].header"
   ]
  },
  {
   "cell_type": "code",
   "execution_count": null,
   "metadata": {},
   "outputs": [],
   "source": [
    "fits.open(roi_geo_file)[1].header"
   ]
  },
  {
   "cell_type": "code",
   "execution_count": null,
   "metadata": {},
   "outputs": [],
   "source": [
    "fits.open(roi_bary_file)[1].header"
   ]
  },
  {
   "cell_type": "code",
   "execution_count": null,
   "metadata": {},
   "outputs": [],
   "source": [
    "fig, ax = plt.subplots(nrows=1, ncols=2, figsize=(10,5))\n",
    "h1 = ax[0].hist(roi['TIME']-roi_bary['TIME'],     range=(-505,505), bins=100, alpha=0.5, label='MET - TDB')\n",
    "h2 = ax[0].hist(roi_bary['TIME']-roi_geo['TIME'], range=(-505,505), bins=100, alpha=0.5, label='TDB - TT')\n",
    "h3 = ax[1].hist(roi['TIME']-roi_geo['TIME'],      bins=100, alpha=0.5, label='MET - TT')\n",
    "ax[0].legend()\n",
    "ax[1].legend()\n",
    "\n",
    "fig, ax = plt.subplots(nrows=1, ncols=1, figsize=(10,5))\n",
    "ax.plot(roi['TIME']-roi['TIME'].min(),roi['TIME']-roi_bary['TIME'],    ':+', label='MET - TDB')\n",
    "ax.plot(roi['TIME']-roi['TIME'].min(),roi['TIME']-roi_geo['TIME'],     ':+', label='MET - TT')\n",
    "ax.plot(roi['TIME']-roi['TIME'].min(),roi_geo['TIME']-roi_bary['TIME'],':+',label='TT - TDB')\n",
    "#ax.set(xlim=(9.694e6,9.702e6), ylim=(-0.025,-0.005))\n",
    "ax.legend()"
   ]
  },
  {
   "cell_type": "markdown",
   "metadata": {},
   "source": [
    "# Look for Ephemeris which describes the source\n",
    "\n",
    "![title](pics/ephemeris.png)\n",
    "\n",
    "![title](pics/Taylor.png)"
   ]
  },
  {
   "cell_type": "code",
   "execution_count": null,
   "metadata": {},
   "outputs": [],
   "source": [
    "# Attribute a PHASE to Geminga barycentered photons\n",
    "period = 1/4.217567\n",
    "f0 = 4.217567\n",
    "f1 = -1.952503e-13\n",
    "roi_bary_dummy = roi_bary.copy()\n",
    "roi_bary_dummy['PHASE'] = np.zeros(len(roi_bary_dummy['TIME']))\n",
    "for n,t in zip(roi_bary_dummy.index,roi_bary_dummy['TIME']):\n",
    "    roi_bary_dummy.loc[n,'PHASE'] = (t % period)/period"
   ]
  },
  {
   "cell_type": "code",
   "execution_count": null,
   "metadata": {},
   "outputs": [],
   "source": [
    "# Create manually FOLDED LC\n",
    "fig, ax = plt.subplots(nrows=1, ncols=2, figsize=(9,5))\n",
    "fig.suptitle('Geminga Barycentered photons FOLDED LC:')\n",
    "ax[0].set(title='ALL data, P=%.4f' % period, xlabel='Time [s]', ylabel='Phase')#, ylim=(-0.01,0.05))\n",
    "ax[0].plot(roi_bary_dummy['TIME'],roi_bary_dummy['PHASE'],',')\n",
    "\n",
    "ax[1].set(title='BINNED data, P=%.4f' % period, xlabel='Phase', ylabel='Counts')#, ylim=(-0.0007,0.012))\n",
    "ax[1].hist(roi_bary_dummy['PHASE'],100)\n",
    "fig.tight_layout(rect=[0, 0.03, 1, 0.97])"
   ]
  },
  {
   "cell_type": "code",
   "execution_count": null,
   "metadata": {},
   "outputs": [],
   "source": [
    "# ZOOM IN FOLDED LC\n",
    "fig, ax = plt.subplots(nrows=1, ncols=2, figsize=(9,5))\n",
    "fig.suptitle('Geminga Barycentered FOLDED LC:')\n",
    "ax[0].set(title='ZOOM IN, P=%.4f' % period, xlabel='Time [s]', ylabel='Phase')#, ylim=(-0.01,0.05))\n",
    "short = np.logical_and(roi_bary_dummy['TIME']>2.50e8,roi_bary_dummy['TIME']<2.51e8)\n",
    "ax[0].plot(roi_bary_dummy['TIME'][short],roi_bary_dummy['PHASE'][short],'+')\n",
    "\n",
    "ax[1].set(title='BINNED data, P=%.4f' % period, xlabel='Phase', ylabel='Counts')#, ylim=(-0.0007,0.012))\n",
    "ax[1].hist(roi_bary_dummy['PHASE'][short],40)\n",
    "fig.tight_layout(rect=[0, 0.03, 1, 0.97])"
   ]
  },
  {
   "cell_type": "code",
   "execution_count": null,
   "metadata": {},
   "outputs": [],
   "source": [
    "# Attribute PHASE to Geminga_bary\n",
    "period = 1/4.217567\n",
    "f0 = 4.217567\n",
    "f1 = -1.952503e-13\n",
    "t0 = (54800-51910)*86400.\n",
    "\n",
    "roi_bary_dummy2 = roi_bary.copy()\n",
    "roi_bary_dummy2['PHASE'] = np.zeros(len(roi_bary_dummy2['TIME']))\n",
    "\n",
    "for n,t in zip(roi_bary_dummy2.index,roi_bary_dummy2['TIME']):\n",
    "    roi_bary_dummy2.loc[n,'PHASE'] = ((t-t0)*f0 + 0.5*((t-t0)**2)*f1)%1"
   ]
  },
  {
   "cell_type": "code",
   "execution_count": null,
   "metadata": {},
   "outputs": [],
   "source": [
    "# Create FOLDED LC\n",
    "fig, ax = plt.subplots(nrows=1, ncols=2, figsize=(9,5))\n",
    "fig.suptitle('Geminga Barycentered FOLDED LC: with Fdot')\n",
    "ax[0].set(title='ALL data, P=%.4f' % period, xlabel='Time [s]', ylabel='Phase')#, ylim=(-0.01,0.05))\n",
    "ax[0].plot(roi_bary_dummy2['TIME'],roi_bary_dummy2['PHASE'],',')\n",
    "\n",
    "ax[1].set(title='BINNED data, P=%.4f' % period, xlabel='Phase', ylabel='Counts')#, ylim=(-0.0007,0.012))\n",
    "ax[1].hist(roi_bary_dummy2['PHASE'],100)\n",
    "fig.tight_layout(rect=[0, 0.03, 1, 0.97])"
   ]
  },
  {
   "cell_type": "code",
   "execution_count": null,
   "metadata": {},
   "outputs": [],
   "source": [
    "# ZOOMING FOLDED LC\n",
    "fig, ax = plt.subplots(nrows=1, ncols=2, figsize=(9,5))\n",
    "fig.suptitle('Geminga Barycentered FOLDED LC: with Fdot')\n",
    "ax[0].set(title='ZOOM IN, P=%.4f' % period, xlabel='Time [s]', ylabel='Phase')#, ylim=(-0.01,0.05))\n",
    "short = np.logical_and(roi_bary_dummy2['TIME']>2.50e8,roi_bary_dummy2['TIME']<2.51e8)\n",
    "ax[0].plot(roi_bary_dummy2['TIME'][short],roi_bary_dummy2['PHASE'][short],'+')\n",
    "\n",
    "ax[1].set(title='BINNED data, P=%.4f' % period, xlabel='Phase', ylabel='Counts')#, ylim=(-0.0007,0.012))\n",
    "ax[1].hist(roi_bary_dummy2['PHASE'][short],40)\n",
    "fig.tight_layout(rect=[0, 0.03, 1, 0.97])"
   ]
  },
  {
   "cell_type": "markdown",
   "metadata": {},
   "source": [
    "# Look for Ephemeris database\n",
    "\n",
    "https://fermi.gsfc.nasa.gov/ssc/data/access/lat/ephems/\n",
    "\n",
    "![title](pics/database.png)"
   ]
  },
  {
   "cell_type": "code",
   "execution_count": null,
   "metadata": {},
   "outputs": [],
   "source": [
    "# Load photon files\n",
    "db_file = 'data/database.fits'\n",
    "fits.info(db_file)"
   ]
  },
  {
   "cell_type": "code",
   "execution_count": null,
   "metadata": {},
   "outputs": [],
   "source": [
    "# LOAD data with PANDAS and look at the tables\n",
    "#geminga_ft = fits.open(geminga_file)[1].data\n",
    "#names = [name for name in geminga_ft.columns.names if len(geminga_ft[name].shape) <= 1]\n",
    "db = Table.read(db_file,hdu=1).to_pandas()\n",
    "db"
   ]
  },
  {
   "cell_type": "markdown",
   "metadata": {},
   "source": [
    "We run now \"gtpphase\":\n",
    "![title](pics/gtpphase_DB.png)"
   ]
  },
  {
   "cell_type": "code",
   "execution_count": null,
   "metadata": {},
   "outputs": [],
   "source": [
    "# Plot the folded light curve profile\n",
    "fig, ax = plt.subplots(nrows=1, ncols=1, figsize=(9,8))\n",
    "ax.set(title='Folded light curve',xlabel='Phase',ylabel='Counts',xlim=(0,1))\n",
    "ax.hist(geminga['PULSE_PHASE'],100)\n",
    "#ax.hist(crop['PULSE_PHASE'],100)"
   ]
  },
  {
   "cell_type": "markdown",
   "metadata": {},
   "source": [
    "If we do not have any database, we can manually input the Ephemeris, always via \"gtpphase\":\n",
    "![title](pics/gtpphase_manual.png)"
   ]
  },
  {
   "cell_type": "code",
   "execution_count": null,
   "metadata": {},
   "outputs": [],
   "source": [
    "'''\n",
    "# Load photon files\n",
    "geminga_file_man = 'data/Geminga_gtis.fits'\n",
    "# LOAD data with PANDAS and look at the EVENT table\n",
    "geminga_ft_man = fits.open(geminga_file)[1].data\n",
    "names = [name for name in geminga_ft_man.columns.names if len(geminga_ft_man[name].shape) <= 1]\n",
    "geminga_man = Table.read('data/Geminga_gtis.fits',hdu=1)\n",
    "geminga_man = geminga_man[names].to_pandas()\n",
    "geminga_man\n",
    "'''"
   ]
  },
  {
   "cell_type": "code",
   "execution_count": null,
   "metadata": {},
   "outputs": [],
   "source": [
    "'''\n",
    "# Plot the folded light curve profile\n",
    "nbin = 100\n",
    "fig, ax = plt.subplots(nrows=1, ncols=1, figsize=(9,8))\n",
    "ax.set(title='Folded light curve MANUALLY',xlabel='Phase',ylabel='Counts',xlim=(0,1))\n",
    "ax.hist(geminga_man['PULSE_PHASE'],nbin)\n",
    "\n",
    "# Define ON-PULSE, OFF-PULSE & INTER-PULSE:\n",
    "off_pulse   = np.logical_and(geminga['PULSE_PHASE']>0.22,geminga['PULSE_PHASE']<0.58)\n",
    "on_pulse    = np.logical_and(geminga['PULSE_PHASE']>0.22,geminga['PULSE_PHASE']<0.58)\n",
    "inter_pulse = np.logical_or(geminga['PULSE_PHASE']<0.05,geminga['PULSE_PHASE']>0.72)\n",
    "ax.axvline(0.05,ls=':',color='r', linewidth=4)\n",
    "ax.axvline(0.22,ls=':',color='r', linewidth=4)\n",
    "ax.axvline(0.58,ls=':',color='r', linewidth=4)\n",
    "ax.axvline(0.72,ls=':',color='r', linewidth=4)\n",
    "ax.axhline(np.sum(off_pulse)/(100*(0.58-0.22)),xmin=0.22, xmax=0.58,ls=':',color='k', linewidth=4)\n",
    "ax.axhline(np.sum(inter_pulse)/(100*(0.05+1-0.72)), xmax=0.05,ls=':',color='k', linewidth=4)\n",
    "ax.axhline(np.sum(inter_pulse)/(100*(0.05+1-0.72)),xmin=0.72,ls=':',color='k', linewidth=4)\n",
    "'''"
   ]
  },
  {
   "cell_type": "code",
   "execution_count": null,
   "metadata": {},
   "outputs": [],
   "source": [
    "# Plot the folded light curve profile\n",
    "nbin = 100\n",
    "fig, ax = plt.subplots(nrows=1, ncols=1, figsize=(9,8))\n",
    "ax.set(title='Folded light curve',xlabel='Phase',ylabel='Counts',xlim=(0,1))\n",
    "ax.hist(crop['PULSE_PHASE'],nbin)\n",
    "\n",
    "# Define ON-PULSE, OFF-PULSE & INTER-PULSE:\n",
    "off_pulse   = np.logical_and(crop['PULSE_PHASE']>0.22,crop['PULSE_PHASE']<0.58)\n",
    "on_pulse    = np.logical_and(crop['PULSE_PHASE']>0.22,crop['PULSE_PHASE']<0.58)\n",
    "inter_pulse = np.logical_or( crop['PULSE_PHASE']<0.05,crop['PULSE_PHASE']>0.72)\n",
    "ax.axvline(0.05,ls=':',color='r', linewidth=4)\n",
    "ax.axvline(0.22,ls=':',color='r', linewidth=4)\n",
    "ax.axvline(0.58,ls=':',color='r', linewidth=4)\n",
    "ax.axvline(0.72,ls=':',color='r', linewidth=4)\n",
    "ax.axhline(np.sum(off_pulse)/(100*(0.58-0.22)),xmin=0.22, xmax=0.58,ls=':',color='k', linewidth=4)\n",
    "ax.axhline(np.sum(inter_pulse)/(100*(0.05+1-0.72)), xmax=0.05,ls=':',color='k', linewidth=4)\n",
    "ax.axhline(np.sum(inter_pulse)/(100*(0.05+1-0.72)),xmin=0.72,ls=':',color='k', linewidth=4)"
   ]
  },
  {
   "cell_type": "markdown",
   "metadata": {},
   "source": [
    "\"gtpphase\":\n",
    "![title](pics/pulse_profile.png)"
   ]
  },
  {
   "cell_type": "code",
   "execution_count": null,
   "metadata": {},
   "outputs": [],
   "source": [
    "# We can now plot a count map of the events\n",
    "fig, ax = plt.subplots(nrows=1, ncols=2, figsize=(15,6))\n",
    "fig.suptitle('CMAP: GEMINGA')\n",
    "ax[0].set(title='ALL events',xlabel='L',ylabel='B')\n",
    "h = ax[0].hist2d(geminga['L'],geminga['B'],200, cmap='plasma', norm=colors.PowerNorm(0.3) )# norm=colors.LogNorm())\n",
    "ax[0].axis('equal')\n",
    "fig.colorbar(h[3], ax=ax[0], orientation='vertical')\n",
    "\n",
    "ax[1].set(title='OFF-PULSE (36% of TOTAL exposure)',xlabel='L',ylabel='B')\n",
    "h = ax[1].hist2d(geminga['L'][off_pulse],geminga['B'][off_pulse],200, cmap='plasma', norm=colors.PowerNorm(0.3) )# norm=colors.LogNorm())\n",
    "ax[1].axis('equal')\n",
    "fig.colorbar(h[3], ax=ax[1], orientation='vertical')"
   ]
  },
  {
   "cell_type": "code",
   "execution_count": null,
   "metadata": {},
   "outputs": [],
   "source": [
    "# Getting back to System references\n",
    "fig, ax = plt.subplots(nrows=1, ncols=2, figsize=(10,5))\n",
    "h1 = ax[0].hist(roi['TIME']-roi_bary['TIME'],     range=(-505,505), bins=100, alpha=0.5, label='MET - TDB')\n",
    "h2 = ax[0].hist(roi_bary['TIME']-roi_geo['TIME'], range=(-505,505), bins=100, alpha=0.5, label='TDB - TT')\n",
    "h3 = ax[1].hist(roi['TIME']-roi_geo['TIME'],      bins=100, alpha=0.5, label='MET - TT')\n",
    "ax[0].legend()\n",
    "ax[1].legend()\n",
    "\n",
    "fig, ax = plt.subplots(nrows=1, ncols=1, figsize=(10,5))\n",
    "ax.plot(roi['TIME']-roi['TIME'].min(),roi['TIME']-roi_bary['TIME'],    ':+', label='MET - TDB')\n",
    "ax.plot(roi['TIME']-roi['TIME'].min(),roi['TIME']-roi_geo['TIME'],     ':+', label='MET - TT')\n",
    "ax.plot(roi['TIME']-roi['TIME'].min(),roi_geo['TIME']-roi_bary['TIME'],':+',label='TT - TDB')\n",
    "#ax.set(xlim=(9.694e6,9.702e6), ylim=(-0.025,-0.005))\n",
    "ax.legend()"
   ]
  },
  {
   "cell_type": "code",
   "execution_count": null,
   "metadata": {},
   "outputs": [],
   "source": [
    "# Funny EXTRA...\n",
    "# ...A way to estimate the satellite ORBIT DURATION\n",
    "x = roi['TIME']-roi['TIME'].min()\n",
    "orbit1 = np.logical_and(x>9.694e6,x<9.696e6)\n",
    "orbit2 = np.logical_and(x>9.700e6,x<9.702e6)\n",
    "\n",
    "y1 = (roi['TIME']-roi_geo['TIME'])[orbit1].min()\n",
    "for i,j in zip(roi['TIME'][orbit1].index,(roi['TIME']-roi_geo['TIME'])[orbit1]):\n",
    "    if j==y1:\n",
    "        print('Min value at index %s, corresponding to time %s sec' % (i,roi['TIME'][i]))\n",
    "y2 = (roi['TIME']-roi_geo['TIME'])[orbit2].min()\n",
    "for k,j in zip(roi['TIME'][orbit2].index,(roi['TIME']-roi_geo['TIME'])[orbit2]):\n",
    "    if j==y2:\n",
    "        print('Min value at index %s, corresponding to time %s sec' % (k,roi['TIME'][k]))\n",
    "orbit_sec = (roi['TIME'][k]-roi['TIME'][i])\n",
    "print('Orbit duration: %.2f sec = %.2f min = %.2f hour' % (orbit_sec,orbit_sec/60,orbit_sec/3600))"
   ]
  },
  {
   "cell_type": "markdown",
   "metadata": {},
   "source": [
    "Note: Since the pulsar location is needed to calculate photon travel time between the spacecraft and the geocenter, in principle everything after a geocentric conversion depends on the pulsar location.\n",
    "\n",
    "TT = TAI (International Atomic Time) + 32.184 s\n",
    "\n",
    "TAI = UTC + 32 s at January 1.0, 2001, UTC\n",
    "\n",
    "Approximately, TDB = TT + 1.658 ms × sin g + 0.014 ms × sin 2g, where g is a mean anomaly of the center of gravity of the Earth-Moon system around the Sun. More precise estimate is necessary to meet the requirement on absolute time accuracy for Fermi (formerly GLAST).\n",
    "\n",
    "The solar system barycenter is located near the surface of the Sun, which is 2.3 light-second away from the center of the Sun.\n",
    "\n",
    "For micro-second precision timing, relativistic effects are not negligible. Such effects include: the Shapiro delay in the solar system, aberration due to the motion of the spacecraft around the Earth and the motion of the Earth around the Sun, and relativistic delay at the source (for binary pulsars only).\n",
    "\n",
    "Also see Goddard Space Flight Center's \"A Time Tutorial\" in \"The ABC of XTE\" for basic information about temporal analyses."
   ]
  },
  {
   "cell_type": "markdown",
   "metadata": {},
   "source": [
    "## ...Play with the notebook... and have FUN..."
   ]
  },
  {
   "cell_type": "code",
   "execution_count": null,
   "metadata": {},
   "outputs": [],
   "source": []
  },
  {
   "cell_type": "code",
   "execution_count": null,
   "metadata": {},
   "outputs": [],
   "source": []
  },
  {
   "cell_type": "code",
   "execution_count": null,
   "metadata": {},
   "outputs": [],
   "source": []
  },
  {
   "cell_type": "code",
   "execution_count": null,
   "metadata": {},
   "outputs": [],
   "source": []
  },
  {
   "cell_type": "code",
   "execution_count": null,
   "metadata": {
    "scrolled": false
   },
   "outputs": [],
   "source": [
    "import matplotlib.pyplot as plt\n",
    "import numpy as np\n",
    "import matplotlib.mlab as mlab\n",
    "import matplotlib.gridspec as gridspec\n",
    "\n",
    "# Fixing random state for reproducibility\n",
    "np.random.seed(19680801)\n",
    "\n",
    "fig, ax = plt.subplots(nrows=2, ncols=1, figsize=(9,9))\n",
    "\n",
    "for n in [1,2,3]:\n",
    "    dt = 0.01*n\n",
    "    t = np.arange(0, 10, dt)\n",
    "    nse = np.random.randn(len(t))\n",
    "    r = np.exp(-t / 0.05)\n",
    "    cnse = np.convolve(nse, r) * dt\n",
    "    cnse = cnse[:len(t)]\n",
    "    s = 0.1 * np.sin(2 * np.pi *t) + cnse\n",
    "    ax[0].plot(t, s, label=n)\n",
    "    ax[1].psd(s, 512, 1 / dt, label=n)\n",
    "ax[0].legend()\n",
    "ax[1].legend()"
   ]
  },
  {
   "cell_type": "code",
   "execution_count": null,
   "metadata": {
    "scrolled": false
   },
   "outputs": [],
   "source": [
    "import matplotlib.gridspec as gridspec\n",
    "\n",
    "# Fixing random state for reproducibility\n",
    "np.random.seed(19680801)\n",
    "\n",
    "fig1, ax1 = plt.subplots(nrows=3, ncols=2, figsize=(9,10))\n",
    "fig2, ax2 = plt.subplots(nrows=1, ncols=1, figsize=(9,5))\n",
    "\n",
    "for dt in [0.005,0.01,0.02,0.03]:\n",
    "    t = np.arange(0, 10, dt)\n",
    "    nse = np.random.randn(len(t))\n",
    "    ax1[0,0].set_title('nse = np.random.randn(len(t))')\n",
    "    ax1[0,0].plot(nse)\n",
    "    \n",
    "    r = np.exp(-t / 0.05)\n",
    "    ax1[0,1].set_title('r = np.exp(-t / 0.05)')\n",
    "    ax1[0,1].loglog(t,r)\n",
    "    \n",
    "    cnse = np.convolve(nse, r) * dt\n",
    "    ax1[1,0].set_title('cnse = np.convolve(nse, r) * dt')\n",
    "    ax1[1,0].plot(cnse)\n",
    "    \n",
    "    cnse = cnse[:len(t)]\n",
    "    ax1[2,0].set_title('cnse = cnse[:len(t)]')\n",
    "    ax1[2,0].plot(cnse)\n",
    "    \n",
    "    s = 0.1 * np.sin(2 * np.pi * t) + cnse\n",
    "    ax1[1,1].set_title('s = 0.1 * np.sin(2 * np.pi * t) + cnse')\n",
    "    ax1[1,1].plot(s)\n",
    "    \n",
    "    ax1[2,1].set_title('t,s')\n",
    "    ax1[2,1].plot(t, s)\n",
    "    \n",
    "    ax2.set_title('psd(s, 512, 1 / dt)')\n",
    "    ax2.psd(s, 512, 1 / dt,label=dt)\n",
    "ax2.legend()"
   ]
  },
  {
   "cell_type": "code",
   "execution_count": null,
   "metadata": {
    "scrolled": true
   },
   "outputs": [],
   "source": [
    "import matplotlib.gridspec as gridspec\n",
    "\n",
    "# Fixing random state for reproducibility\n",
    "np.random.seed(19680801)\n",
    "\n",
    "fig1, ax1 = plt.subplots(nrows=3, ncols=2, figsize=(9,10))\n",
    "fig2, ax2 = plt.subplots(nrows=1, ncols=1, figsize=(9,5))\n",
    "\n",
    "for n in [1,2,3]:\n",
    "    dt = 0.01\n",
    "    t = np.arange(0, 10, dt)\n",
    "    nse = np.random.randn(len(t))\n",
    "    ax1[0,0].set_title('nse = np.random.randn(len(t))')\n",
    "    ax1[0,0].plot(nse)\n",
    "    \n",
    "    r = np.exp(-t / 0.05)\n",
    "    ax1[0,1].set_title('r = np.exp(-t / 0.05)')\n",
    "    ax1[0,1].loglog(t,r)\n",
    "    \n",
    "    cnse = np.convolve(nse, r) * dt\n",
    "    ax1[1,0].set_title('cnse = np.convolve(nse, r) * dt')\n",
    "    ax1[1,0].plot(cnse)\n",
    "    \n",
    "    cnse = cnse[:len(t)]\n",
    "    ax1[2,0].set_title('cnse = cnse[:len(t)]')\n",
    "    ax1[2,0].plot(cnse)\n",
    "    \n",
    "    s = 0.1 * np.sin(2 * np.pi * t) + cnse\n",
    "    ax1[1,1].set_title('s = 0.1 * np.sin(2 * np.pi * t) + cnse')\n",
    "    ax1[1,1].plot(s)\n",
    "    \n",
    "    ax1[2,1].set_title('t,s')\n",
    "    ax1[2,1].plot(t[::n], s[::n])\n",
    "    \n",
    "    ax2.set_title('psd(s, 512, 1 / dt)')\n",
    "    ax2.psd(s[::n], 512, 1 / (dt*n),label=n)\n",
    "ax2.legend()"
   ]
  },
  {
   "cell_type": "code",
   "execution_count": null,
   "metadata": {},
   "outputs": [],
   "source": [
    "fig, ax = plt.subplots(nrows=2, ncols=1, figsize=(9,7))\n",
    "\n",
    "for frac_points in [0.9]:\n",
    "    for w in [1,2,3]:\n",
    "        for nin in [1000]:\n",
    "            A = 2.\n",
    "            phi = 0.5 * np.pi\n",
    "#            nin = 1000\n",
    "            nout = 100000\n",
    "#            frac_points = 0.9 # Fraction of points to select\n",
    "            \n",
    "            #Randomly select a fraction of an array with timesteps:\n",
    "            r = np.random.rand(nin)\n",
    "#            x = np.linspace(0.01, 10*np.pi, nin)\n",
    "            x = np.linspace(0.01, 10, nin)\n",
    "            x = x[r >= frac_points]\n",
    "            \n",
    "            #Plot a sine wave for the selected times:\n",
    "            y = A * np.sin(w*x+phi) + 1*r[r >= frac_points]\n",
    "            \n",
    "            #Define the array of frequencies for which to compute the periodogram:\n",
    "            f = np.linspace(0.01, 10, nout)\n",
    "            \n",
    "            #Calculate Lomb-Scargle periodogram:\n",
    "            pgram = signal.lombscargle(x, y, f, normalize=True)\n",
    "            \n",
    "            #Now make a plot of the input data:\n",
    "            ax[0].plot(x, y, '+:', label='w=%s f=%s n=%s' %(w,frac_points,nin))\n",
    "            \n",
    "            #Then plot the normalized periodogram:\n",
    "            ax[1].plot(f, pgram, label='w=%s f=%s n=%s' %(w,frac_points,nin))\n",
    "ax[0].legend()\n",
    "ax[1].legend()"
   ]
  },
  {
   "cell_type": "code",
   "execution_count": null,
   "metadata": {
    "scrolled": true
   },
   "outputs": [],
   "source": [
    "fig, ax = plt.subplots(nrows=2, ncols=1, figsize=(9,7))\n",
    "\n",
    "for frac_points in [0.9]:\n",
    "    for w in [1,2,3]:\n",
    "        for nin in [1000]:\n",
    "            for phi in [0.5* np.pi]:#[0.4* np.pi,0.5* np.pi,0.6* np.pi]:\n",
    "                for A in [2]:\n",
    "#                    A = 2.\n",
    "#                    phi = 0.5 * np.pi\n",
    "        #            nin = 1000\n",
    "                    nout = 100000\n",
    "        #            frac_points = 0.9 # Fraction of points to select\n",
    "                    \n",
    "                    #Randomly select a fraction of an array with timesteps:\n",
    "                    r = np.random.rand(nin)\n",
    "                    x = np.linspace(0.01, 10*np.pi, nin)\n",
    "                    x = x[r >= frac_points]\n",
    "                    \n",
    "                    #Plot a sine wave for the selected times:\n",
    "                    y = A * np.sin(w*x+phi) #+ 1*r[r >= frac_points]\n",
    "                    \n",
    "                    #Define the array of frequencies for which to compute the periodogram:\n",
    "                    f = np.logspace(-1, 2, nout)\n",
    "#                    f = np.linspace(0.01, 2, nout)\n",
    "                    \n",
    "                    #Calculate Lomb-Scargle periodogram:\n",
    "                    pgram = signal.lombscargle(x, y, f, normalize=True)\n",
    "                    \n",
    "                    #Now make a plot of the input data:\n",
    "                    ax[0].plot(x, y, '+:', label='w=%s A=%s' %(w,A))\n",
    "                    \n",
    "                    #Then plot the normalized periodogram:\n",
    "                    ax[1].plot(f, pgram, label='w=%s A=%s' %(w,A))\n",
    "ax[0].legend()\n",
    "ax[1].legend()\n",
    "/print len(x)\n",
    "/print len(f)"
   ]
  },
  {
   "cell_type": "code",
   "execution_count": null,
   "metadata": {
    "scrolled": true
   },
   "outputs": [],
   "source": [
    "fs = 10e3\n",
    "N = 1e3\n",
    "amp = 2*np.sqrt(2)\n",
    "freq = 1234.0\n",
    "noise_power = 0.001 * fs / 2\n",
    "time = np.arange(N) / fs\n",
    "x = amp*np.sin(2*np.pi*freq*time)\n",
    "plt.subplots()\n",
    "plt.plot(x)\n",
    "x += np.random.normal(scale=np.sqrt(noise_power), size=time.shape)\n",
    "plt.subplots()\n",
    "plt.plot(x)\n",
    "f, Pxx_den = signal.periodogram(x, fs)\n",
    "plt.subplots()\n",
    "plt.semilogy(f, Pxx_den)\n",
    "plt.ylim([1e-7, 1e2])\n",
    "plt.xlabel('frequency [Hz]')\n",
    "plt.ylabel('PSD [V**2/Hz]')\n",
    "plt.show()"
   ]
  },
  {
   "cell_type": "code",
   "execution_count": null,
   "metadata": {
    "scrolled": true
   },
   "outputs": [],
   "source": [
    "f, Pxx_den = signal.periodogram(x, fs)\n",
    "plt.subplots()\n",
    "plt.semilogy(f, Pxx_den)\n",
    "plt.ylim([1e-7, 1e2])\n",
    "plt.xlabel('frequency [Hz]')\n",
    "plt.ylabel('PSD [V**2/Hz]')\n",
    "plt.show()"
   ]
  },
  {
   "cell_type": "code",
   "execution_count": null,
   "metadata": {},
   "outputs": [],
   "source": [
    "def findpeaks(series, DELTA):\n",
    "    \"\"\"\n",
    "    Finds extrema in a pandas series data.\n",
    "\n",
    "    Parameters\n",
    "    ----------\n",
    "    series : `pandas.Series`\n",
    "        The data series from which we need to find extrema.\n",
    "\n",
    "    DELTA : `float`\n",
    "        The minimum difference between data values that defines a peak.\n",
    "\n",
    "    Returns\n",
    "    -------\n",
    "    minpeaks, maxpeaks : `list`\n",
    "        Lists consisting of pos, val pairs for both local minima points and\n",
    "        local maxima points.\n",
    "    \"\"\"\n",
    "    # Set inital values\n",
    "    mn, mx = np.Inf, -np.Inf\n",
    "    minpeaks = []\n",
    "    maxpeaks = []\n",
    "    lookformax = True\n",
    "    start = True\n",
    "    # Iterate over items in series\n",
    "    for time_pos, value in series.iteritems():\n",
    "        if value > mx:\n",
    "            mx = value\n",
    "            mxpos = time_pos\n",
    "        if value < mn:\n",
    "            mn = value\n",
    "            mnpos = time_pos\n",
    "        if lookformax:\n",
    "            if value < mx-DELTA:\n",
    "                # a local maxima\n",
    "                maxpeaks.append((mxpos, mx))\n",
    "                mn = value\n",
    "                mnpos = time_pos\n",
    "                lookformax = False\n",
    "            elif start:\n",
    "                # a local minima at beginning\n",
    "                minpeaks.append((mnpos, mn))\n",
    "                mx = value\n",
    "                mxpos = time_pos\n",
    "                start = False\n",
    "        else:\n",
    "            if value > mn+DELTA:\n",
    "                # a local minima\n",
    "                minpeaks.append((mnpos, mn))\n",
    "                mx = value\n",
    "                mxpos = time_pos\n",
    "                lookformax = True\n",
    "    # check for extrema at end\n",
    "    if value > mn+DELTA:\n",
    "        maxpeaks.append((mxpos, mx))\n",
    "    elif value < mx-DELTA:\n",
    "        minpeaks.append((mnpos, mn))\n",
    "    return minpeaks, maxpeaks"
   ]
  },
  {
   "cell_type": "code",
   "execution_count": null,
   "metadata": {
    "scrolled": false
   },
   "outputs": [],
   "source": [
    "#series = my_timeseries.data['sunspot SWO']\n",
    "series = vela['RATE']\n",
    "minpeaks, maxpeaks = findpeaks(series, DELTA=0.02)\n",
    "# Plotting the figure and extremum points\n",
    "fig, ax = plt.subplots()\n",
    "ax.set_ylabel('LC')\n",
    "ax.set_xlabel('Time')\n",
    "ax.set_title('Peaks in TimeSeries')\n",
    "ax.plot(series)\n",
    "ax.scatter(*zip(*minpeaks), color='red', label='min')\n",
    "ax.scatter(*zip(*maxpeaks), color='green', label='max')\n",
    "ax.legend()\n",
    "ax.grid(True)\n",
    "\n",
    "#ax.set_xlim(13700,14300)\n",
    "#ax.set_ylim(-0.02,0.06)\n",
    "\n",
    "plt.show()"
   ]
  },
  {
   "cell_type": "code",
   "execution_count": null,
   "metadata": {},
   "outputs": [],
   "source": [
    "#freq, spectra = signal.periodogram(vela['RATE'], fs=0.25)\n",
    "freq, spectra = signal.periodogram(vela['RATE'], fs=1/(8.9*86400))\n",
    "\n",
    "fig, ax = plt.subplots()\n",
    "plt.semilogy(freq, spectra)\n",
    "plt.title(f'Power Spectrum of {rate}')\n",
    "plt.ylabel('Power Spectral Density')\n",
    "plt.xlabel('Frequency [Hz]')\n",
    "plt.show()"
   ]
  }
 ],
 "metadata": {
  "kernelspec": {
   "display_name": "Python 3",
   "language": "python",
   "name": "python3"
  },
  "language_info": {
   "codemirror_mode": {
    "name": "ipython",
    "version": 3
   },
   "file_extension": ".py",
   "mimetype": "text/x-python",
   "name": "python",
   "nbconvert_exporter": "python",
   "pygments_lexer": "ipython3",
   "version": "3.7.6"
  }
 },
 "nbformat": 4,
 "nbformat_minor": 4
}
